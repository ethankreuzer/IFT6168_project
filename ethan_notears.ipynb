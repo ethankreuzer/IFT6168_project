{
 "cells": [
  {
   "cell_type": "code",
   "execution_count": 55,
   "id": "4e9f3a45",
   "metadata": {},
   "outputs": [],
   "source": [
    "import pandas as pd \n",
    "import numpy as np\n",
    "import os\n",
    "from notears.notears import linear\n",
    "from notears.notears import utils"
   ]
  },
  {
   "cell_type": "markdown",
   "id": "4b870e3e",
   "metadata": {},
   "source": [
    "# Test"
   ]
  },
  {
   "cell_type": "code",
   "execution_count": 2,
   "id": "e0695ceb",
   "metadata": {},
   "outputs": [],
   "source": [
    "data_dir = '/cim/ehoney/IFT6168_project/dcdi/data/perfect/data_p10_e10_n10000_linear_struct'"
   ]
  },
  {
   "cell_type": "code",
   "execution_count": 3,
   "id": "ff8aad9e",
   "metadata": {},
   "outputs": [],
   "source": [
    "dag_path = os.path.join(data_dir, 'DAG1.npy')\n",
    "cpdag_path = os.path.join(data_dir, 'CPDAG1.npy')\n",
    "obs_data_path = os.path.join(data_dir, 'data1.npy')\n",
    "interv_data_path = os.path.join(data_dir, 'data_interv1.npy')\n",
    "regime_idx_path = os.path.join(data_dir, 'regime1.csv')\n",
    "interv_nodes_path = os.path.join(data_dir, 'intervention1.csv')"
   ]
  },
  {
   "cell_type": "code",
   "execution_count": 5,
   "id": "cc422103",
   "metadata": {},
   "outputs": [
    {
     "data": {
      "text/plain": [
       "array([[0., 0., 0., 0., 1., 0., 0., 0., 0., 1.],\n",
       "       [1., 0., 0., 0., 1., 0., 0., 0., 1., 0.],\n",
       "       [0., 0., 0., 1., 0., 0., 0., 0., 0., 0.],\n",
       "       [0., 0., 0., 0., 0., 0., 0., 0., 0., 0.],\n",
       "       [0., 0., 0., 0., 0., 0., 0., 0., 0., 0.],\n",
       "       [0., 0., 0., 0., 0., 0., 0., 0., 0., 0.],\n",
       "       [0., 0., 0., 0., 1., 0., 0., 0., 0., 0.],\n",
       "       [0., 1., 0., 0., 0., 0., 0., 0., 0., 0.],\n",
       "       [0., 0., 0., 0., 0., 0., 0., 0., 0., 0.],\n",
       "       [0., 0., 0., 0., 0., 0., 0., 0., 0., 0.]])"
      ]
     },
     "execution_count": 5,
     "metadata": {},
     "output_type": "execute_result"
    }
   ],
   "source": [
    "dag = np.load(dag_path)\n",
    "dag"
   ]
  },
  {
   "cell_type": "code",
   "execution_count": 6,
   "id": "2ece1a77",
   "metadata": {},
   "outputs": [
    {
     "data": {
      "text/plain": [
       "array([[0., 1., 0., 0., 1., 0., 0., 0., 0., 1.],\n",
       "       [1., 0., 0., 0., 1., 0., 0., 1., 1., 0.],\n",
       "       [0., 0., 0., 1., 0., 0., 0., 0., 0., 0.],\n",
       "       [0., 0., 1., 0., 0., 0., 0., 0., 0., 0.],\n",
       "       [0., 0., 0., 0., 0., 0., 0., 0., 0., 0.],\n",
       "       [0., 0., 0., 0., 0., 0., 0., 0., 0., 0.],\n",
       "       [0., 0., 0., 0., 1., 0., 0., 0., 0., 0.],\n",
       "       [0., 1., 0., 0., 0., 0., 0., 0., 0., 0.],\n",
       "       [0., 1., 0., 0., 0., 0., 0., 0., 0., 0.],\n",
       "       [1., 0., 0., 0., 0., 0., 0., 0., 0., 0.]])"
      ]
     },
     "execution_count": 6,
     "metadata": {},
     "output_type": "execute_result"
    }
   ],
   "source": [
    "cpdag = np.load(cpdag_path)\n",
    "cpdag"
   ]
  },
  {
   "cell_type": "code",
   "execution_count": 7,
   "id": "3e05eb5b",
   "metadata": {},
   "outputs": [
    {
     "data": {
      "text/plain": [
       "array([[ 1.04549416,  1.56876855,  0.50505903, ..., -1.55214666,\n",
       "        -0.67011774, -0.95467569],\n",
       "       [ 0.83139287,  0.29945842, -0.56516481, ..., -0.82588713,\n",
       "        -1.0324189 , -0.20330703],\n",
       "       [-1.53261836, -2.29737887,  0.70926069, ...,  1.30303601,\n",
       "         2.05855852,  0.90334801],\n",
       "       ...,\n",
       "       [-1.68027651, -1.29201461,  0.36296983, ...,  0.20386925,\n",
       "         0.3136674 ,  1.03691721],\n",
       "       [ 0.73037723,  0.7762301 ,  0.5579628 , ..., -0.08943212,\n",
       "        -1.72667629, -0.31639158],\n",
       "       [-2.34830366, -2.29520103, -0.47288351, ...,  1.47536252,\n",
       "         1.07835087,  2.56914919]])"
      ]
     },
     "execution_count": 7,
     "metadata": {},
     "output_type": "execute_result"
    }
   ],
   "source": [
    "obs_data = np.load(obs_data_path)\n",
    "obs_data"
   ]
  },
  {
   "cell_type": "code",
   "execution_count": 8,
   "id": "532ce8da",
   "metadata": {},
   "outputs": [
    {
     "data": {
      "text/html": [
       "<div>\n",
       "<style scoped>\n",
       "    .dataframe tbody tr th:only-of-type {\n",
       "        vertical-align: middle;\n",
       "    }\n",
       "\n",
       "    .dataframe tbody tr th {\n",
       "        vertical-align: top;\n",
       "    }\n",
       "\n",
       "    .dataframe thead th {\n",
       "        text-align: right;\n",
       "    }\n",
       "</style>\n",
       "<table border=\"1\" class=\"dataframe\">\n",
       "  <thead>\n",
       "    <tr style=\"text-align: right;\">\n",
       "      <th></th>\n",
       "      <th>10</th>\n",
       "    </tr>\n",
       "  </thead>\n",
       "  <tbody>\n",
       "    <tr>\n",
       "      <th>0</th>\n",
       "      <td>10</td>\n",
       "    </tr>\n",
       "    <tr>\n",
       "      <th>1</th>\n",
       "      <td>10</td>\n",
       "    </tr>\n",
       "    <tr>\n",
       "      <th>2</th>\n",
       "      <td>10</td>\n",
       "    </tr>\n",
       "    <tr>\n",
       "      <th>3</th>\n",
       "      <td>10</td>\n",
       "    </tr>\n",
       "    <tr>\n",
       "      <th>4</th>\n",
       "      <td>10</td>\n",
       "    </tr>\n",
       "    <tr>\n",
       "      <th>...</th>\n",
       "      <td>...</td>\n",
       "    </tr>\n",
       "    <tr>\n",
       "      <th>9994</th>\n",
       "      <td>0</td>\n",
       "    </tr>\n",
       "    <tr>\n",
       "      <th>9995</th>\n",
       "      <td>0</td>\n",
       "    </tr>\n",
       "    <tr>\n",
       "      <th>9996</th>\n",
       "      <td>0</td>\n",
       "    </tr>\n",
       "    <tr>\n",
       "      <th>9997</th>\n",
       "      <td>0</td>\n",
       "    </tr>\n",
       "    <tr>\n",
       "      <th>9998</th>\n",
       "      <td>0</td>\n",
       "    </tr>\n",
       "  </tbody>\n",
       "</table>\n",
       "<p>9999 rows × 1 columns</p>\n",
       "</div>"
      ],
      "text/plain": [
       "      10\n",
       "0     10\n",
       "1     10\n",
       "2     10\n",
       "3     10\n",
       "4     10\n",
       "...   ..\n",
       "9994   0\n",
       "9995   0\n",
       "9996   0\n",
       "9997   0\n",
       "9998   0\n",
       "\n",
       "[9999 rows x 1 columns]"
      ]
     },
     "execution_count": 8,
     "metadata": {},
     "output_type": "execute_result"
    }
   ],
   "source": [
    "regime_df = pd.read_csv(regime_idx_path)\n",
    "regime_df"
   ]
  },
  {
   "cell_type": "code",
   "execution_count": 9,
   "id": "dc5b5cd5",
   "metadata": {},
   "outputs": [
    {
     "data": {
      "text/html": [
       "<div>\n",
       "<style scoped>\n",
       "    .dataframe tbody tr th:only-of-type {\n",
       "        vertical-align: middle;\n",
       "    }\n",
       "\n",
       "    .dataframe tbody tr th {\n",
       "        vertical-align: top;\n",
       "    }\n",
       "\n",
       "    .dataframe thead th {\n",
       "        text-align: right;\n",
       "    }\n",
       "</style>\n",
       "<table border=\"1\" class=\"dataframe\">\n",
       "  <thead>\n",
       "    <tr style=\"text-align: right;\">\n",
       "      <th></th>\n",
       "      <th>0</th>\n",
       "    </tr>\n",
       "  </thead>\n",
       "  <tbody>\n",
       "    <tr>\n",
       "      <th>0</th>\n",
       "      <td>0</td>\n",
       "    </tr>\n",
       "    <tr>\n",
       "      <th>1</th>\n",
       "      <td>0</td>\n",
       "    </tr>\n",
       "    <tr>\n",
       "      <th>2</th>\n",
       "      <td>0</td>\n",
       "    </tr>\n",
       "    <tr>\n",
       "      <th>3</th>\n",
       "      <td>0</td>\n",
       "    </tr>\n",
       "    <tr>\n",
       "      <th>4</th>\n",
       "      <td>0</td>\n",
       "    </tr>\n",
       "    <tr>\n",
       "      <th>...</th>\n",
       "      <td>...</td>\n",
       "    </tr>\n",
       "    <tr>\n",
       "      <th>9085</th>\n",
       "      <td>3</td>\n",
       "    </tr>\n",
       "    <tr>\n",
       "      <th>9086</th>\n",
       "      <td>3</td>\n",
       "    </tr>\n",
       "    <tr>\n",
       "      <th>9087</th>\n",
       "      <td>3</td>\n",
       "    </tr>\n",
       "    <tr>\n",
       "      <th>9088</th>\n",
       "      <td>3</td>\n",
       "    </tr>\n",
       "    <tr>\n",
       "      <th>9089</th>\n",
       "      <td>3</td>\n",
       "    </tr>\n",
       "  </tbody>\n",
       "</table>\n",
       "<p>9090 rows × 1 columns</p>\n",
       "</div>"
      ],
      "text/plain": [
       "      0\n",
       "0     0\n",
       "1     0\n",
       "2     0\n",
       "3     0\n",
       "4     0\n",
       "...  ..\n",
       "9085  3\n",
       "9086  3\n",
       "9087  3\n",
       "9088  3\n",
       "9089  3\n",
       "\n",
       "[9090 rows x 1 columns]"
      ]
     },
     "execution_count": 9,
     "metadata": {},
     "output_type": "execute_result"
    }
   ],
   "source": [
    "interv_nodes_df = pd.read_csv(interv_nodes_path)\n",
    "interv_nodes_df"
   ]
  },
  {
   "cell_type": "code",
   "execution_count": 10,
   "id": "bc777907",
   "metadata": {},
   "outputs": [],
   "source": [
    "import numpy as np\n",
    "import scipy.linalg as slin\n",
    "import scipy.optimize as sopt\n",
    "from scipy.special import expit as sigmoid\n",
    "\n",
    "\n",
    "def notears_linear(X, lambda1, loss_type, max_iter=100, h_tol=1e-8, rho_max=1e+16, w_threshold=0.3):\n",
    "    \"\"\"Solve min_W L(W; X) + lambda1 ‖W‖_1 s.t. h(W) = 0 using augmented Lagrangian.\n",
    "\n",
    "    Args:\n",
    "        X (np.ndarray): [n, d] sample matrix\n",
    "        lambda1 (float): l1 penalty parameter\n",
    "        loss_type (str): l2, logistic, poisson\n",
    "        max_iter (int): max num of dual ascent steps\n",
    "        h_tol (float): exit if |h(w_est)| <= htol\n",
    "        rho_max (float): exit if rho >= rho_max\n",
    "        w_threshold (float): drop edge if |weight| < threshold\n",
    "\n",
    "    Returns:\n",
    "        W_est (np.ndarray): [d, d] estimated DAG\n",
    "    \"\"\"\n",
    "    def _loss(W):\n",
    "        \"\"\"Evaluate value and gradient of loss.\"\"\"\n",
    "        M = X @ W\n",
    "        if loss_type == 'l2':\n",
    "            R = X - M\n",
    "            loss = 0.5 / X.shape[0] * (R ** 2).sum()\n",
    "            G_loss = - 1.0 / X.shape[0] * X.T @ R\n",
    "        elif loss_type == 'logistic':\n",
    "            loss = 1.0 / X.shape[0] * (np.logaddexp(0, M) - X * M).sum()\n",
    "            G_loss = 1.0 / X.shape[0] * X.T @ (sigmoid(M) - X)\n",
    "        elif loss_type == 'poisson':\n",
    "            S = np.exp(M)\n",
    "            loss = 1.0 / X.shape[0] * (S - X * M).sum()\n",
    "            G_loss = 1.0 / X.shape[0] * X.T @ (S - X)\n",
    "        else:\n",
    "            raise ValueError('unknown loss type')\n",
    "        return loss, G_loss\n",
    "\n",
    "    def _h(W):\n",
    "        \"\"\"Evaluate value and gradient of acyclicity constraint.\"\"\"\n",
    "        E = slin.expm(W * W)  # (Zheng et al. 2018)\n",
    "        h = np.trace(E) - d\n",
    "        #     # A different formulation, slightly faster at the cost of numerical stability\n",
    "        #     M = np.eye(d) + W * W / d  # (Yu et al. 2019)\n",
    "        #     E = np.linalg.matrix_power(M, d - 1)\n",
    "        #     h = (E.T * M).sum() - d\n",
    "        G_h = E.T * W * 2\n",
    "        return h, G_h\n",
    "\n",
    "    def _adj(w):\n",
    "        \"\"\"Convert doubled variables ([2 d^2] array) back to original variables ([d, d] matrix).\"\"\"\n",
    "        return (w[:d * d] - w[d * d:]).reshape([d, d])\n",
    "\n",
    "    def _func(w):\n",
    "        \"\"\"Evaluate value and gradient of augmented Lagrangian for doubled variables ([2 d^2] array).\"\"\"\n",
    "        W = _adj(w)\n",
    "        loss, G_loss = _loss(W)\n",
    "        h, G_h = _h(W)\n",
    "        obj = loss + 0.5 * rho * h * h + alpha * h + lambda1 * w.sum()\n",
    "        G_smooth = G_loss + (rho * h + alpha) * G_h\n",
    "        g_obj = np.concatenate((G_smooth + lambda1, - G_smooth + lambda1), axis=None)\n",
    "        return obj, g_obj\n",
    "\n",
    "    n, d = X.shape\n",
    "    w_est, rho, alpha, h = np.zeros(2 * d * d), 1.0, 0.0, np.inf  # double w_est into (w_pos, w_neg)\n",
    "    bnds = [(0, 0) if i == j else (0, None) for _ in range(2) for i in range(d) for j in range(d)]\n",
    "    if loss_type == 'l2':\n",
    "        X = X - np.mean(X, axis=0, keepdims=True)\n",
    "    for _ in range(max_iter):\n",
    "        w_new, h_new = None, None\n",
    "        while rho < rho_max:\n",
    "            sol = sopt.minimize(_func, w_est, method='L-BFGS-B', jac=True, bounds=bnds)\n",
    "            w_new = sol.x\n",
    "            h_new, _ = _h(_adj(w_new))\n",
    "            if h_new > 0.25 * h:\n",
    "                rho *= 10\n",
    "            else:\n",
    "                break\n",
    "        w_est, h = w_new, h_new\n",
    "        alpha += rho * h\n",
    "        if h <= h_tol or rho >= rho_max:\n",
    "            break\n",
    "    W_est = _adj(w_est)\n",
    "    W_est[np.abs(W_est) < w_threshold] = 0\n",
    "    return W_est"
   ]
  },
  {
   "cell_type": "code",
   "execution_count": 12,
   "id": "fb885d3d",
   "metadata": {},
   "outputs": [],
   "source": [
    "# Run NOTears on obs_data\n",
    "lambda1 = 0.1  # L1 penalty parameter\n",
    "loss_type = 'l2'  # Loss type (choose 'l2', 'logistic', or 'poisson')\n",
    "w_threshold = 0.3 #suggested from paper\n",
    "\n",
    "W_est = linear.notears_linear(obs_data, lambda1=lambda1, loss_type=loss_type)\n",
    "W_est[np.abs(W_est) < w_threshold] = 0\n",
    "\n",
    "output_path = \"/cim/ehoney/IFT6168_project/no_tears_test.csv\"\n",
    "np.savetxt(output_path, W_est, delimiter=\",\")\n"
   ]
  },
  {
   "cell_type": "code",
   "execution_count": 30,
   "id": "547f1509",
   "metadata": {},
   "outputs": [
    {
     "data": {
      "text/plain": [
       "array([[ 0.        ,  0.        ,  0.        ,  0.        ,  0.        ,\n",
       "         0.        , -0.39965325,  0.        ,  0.        , -0.69003791],\n",
       "       [ 0.57595125,  0.        ,  0.        ,  0.        ,  0.        ,\n",
       "         0.        ,  0.        , -0.59188953, -0.77102606,  0.        ],\n",
       "       [ 0.        ,  0.        ,  0.        ,  0.        ,  0.        ,\n",
       "         0.        ,  0.        ,  0.        ,  0.        ,  0.        ],\n",
       "       [ 0.        ,  0.        , -0.76193059,  0.        ,  0.        ,\n",
       "         0.        ,  0.        ,  0.        ,  0.        ,  0.        ],\n",
       "       [ 0.        , -0.71082203,  0.        ,  0.        ,  0.        ,\n",
       "         0.        , -0.82904412,  0.        ,  0.        ,  0.        ],\n",
       "       [ 0.        ,  0.        ,  0.        ,  0.        ,  0.        ,\n",
       "         0.        ,  0.        ,  0.        ,  0.        ,  0.        ],\n",
       "       [ 0.        ,  0.        ,  0.        ,  0.        ,  0.        ,\n",
       "         0.        ,  0.        ,  0.        ,  0.        ,  0.        ],\n",
       "       [ 0.        ,  0.        ,  0.        ,  0.        ,  0.        ,\n",
       "         0.        ,  0.        ,  0.        ,  0.        ,  0.        ],\n",
       "       [ 0.        ,  0.        ,  0.        ,  0.        ,  0.        ,\n",
       "         0.        ,  0.        ,  0.        ,  0.        ,  0.        ],\n",
       "       [ 0.        ,  0.        ,  0.        ,  0.        ,  0.        ,\n",
       "         0.        ,  0.        ,  0.        ,  0.        ,  0.        ]])"
      ]
     },
     "execution_count": 30,
     "metadata": {},
     "output_type": "execute_result"
    }
   ],
   "source": [
    "W_est"
   ]
  },
  {
   "cell_type": "code",
   "execution_count": 41,
   "id": "32c4516b",
   "metadata": {},
   "outputs": [
    {
     "data": {
      "text/plain": [
       "{'fdr': 0.625, 'tpr': 0.375, 'fpr': 0.13513513513513514, 'shd': 6, 'nnz': 8}"
      ]
     },
     "execution_count": 41,
     "metadata": {},
     "output_type": "execute_result"
    }
   ],
   "source": [
    "utils.count_accuracy(dag, dag_est)"
   ]
  },
  {
   "cell_type": "code",
   "execution_count": 34,
   "id": "74ac8a44",
   "metadata": {},
   "outputs": [],
   "source": [
    "dag_est = (W_est != 0).astype(int)"
   ]
  },
  {
   "cell_type": "code",
   "execution_count": 35,
   "id": "6ff01acb",
   "metadata": {},
   "outputs": [
    {
     "data": {
      "text/plain": [
       "array([[0, 0, 0, 0, 0, 0, 1, 0, 0, 1],\n",
       "       [1, 0, 0, 0, 0, 0, 0, 1, 1, 0],\n",
       "       [0, 0, 0, 0, 0, 0, 0, 0, 0, 0],\n",
       "       [0, 0, 1, 0, 0, 0, 0, 0, 0, 0],\n",
       "       [0, 1, 0, 0, 0, 0, 1, 0, 0, 0],\n",
       "       [0, 0, 0, 0, 0, 0, 0, 0, 0, 0],\n",
       "       [0, 0, 0, 0, 0, 0, 0, 0, 0, 0],\n",
       "       [0, 0, 0, 0, 0, 0, 0, 0, 0, 0],\n",
       "       [0, 0, 0, 0, 0, 0, 0, 0, 0, 0],\n",
       "       [0, 0, 0, 0, 0, 0, 0, 0, 0, 0]])"
      ]
     },
     "execution_count": 35,
     "metadata": {},
     "output_type": "execute_result"
    }
   ],
   "source": [
    "dag_est"
   ]
  },
  {
   "cell_type": "code",
   "execution_count": 36,
   "id": "b56cd565",
   "metadata": {},
   "outputs": [
    {
     "data": {
      "text/plain": [
       "array([[0., 0., 0., 0., 1., 0., 0., 0., 0., 1.],\n",
       "       [1., 0., 0., 0., 1., 0., 0., 0., 1., 0.],\n",
       "       [0., 0., 0., 1., 0., 0., 0., 0., 0., 0.],\n",
       "       [0., 0., 0., 0., 0., 0., 0., 0., 0., 0.],\n",
       "       [0., 0., 0., 0., 0., 0., 0., 0., 0., 0.],\n",
       "       [0., 0., 0., 0., 0., 0., 0., 0., 0., 0.],\n",
       "       [0., 0., 0., 0., 1., 0., 0., 0., 0., 0.],\n",
       "       [0., 1., 0., 0., 0., 0., 0., 0., 0., 0.],\n",
       "       [0., 0., 0., 0., 0., 0., 0., 0., 0., 0.],\n",
       "       [0., 0., 0., 0., 0., 0., 0., 0., 0., 0.]])"
      ]
     },
     "execution_count": 36,
     "metadata": {},
     "output_type": "execute_result"
    }
   ],
   "source": [
    "dag"
   ]
  },
  {
   "cell_type": "code",
   "execution_count": 38,
   "id": "1528a2a7",
   "metadata": {},
   "outputs": [
    {
     "data": {
      "text/plain": [
       "10.0"
      ]
     },
     "execution_count": 38,
     "metadata": {},
     "output_type": "execute_result"
    }
   ],
   "source": [
    "np.sum(np.abs(dag - dag_est))"
   ]
  },
  {
   "cell_type": "code",
   "execution_count": 37,
   "id": "cf06b17a",
   "metadata": {},
   "outputs": [
    {
     "data": {
      "text/plain": [
       "10"
      ]
     },
     "execution_count": 37,
     "metadata": {},
     "output_type": "execute_result"
    }
   ],
   "source": [
    "np.sum(dag != dag_est)"
   ]
  },
  {
   "cell_type": "code",
   "execution_count": 47,
   "id": "0e283c10",
   "metadata": {},
   "outputs": [],
   "source": [
    "def structure_hamming_dist(\n",
    "    adj_mat, other_adj_mat, double_for_anticausal: bool = True\n",
    ") -> float:\n",
    "    \"\"\"Compute structural hamming distance.\n",
    "\n",
    "    The Structural Hamming Distance (SHD) is a standard distance to compare\n",
    "    graphs by their adjacency matrix. It consists in computing the difference\n",
    "    between the two (binary) adjacency matrixes: every edge that is either\n",
    "    missing or not in the target graph is counted as a mistake. Note that\n",
    "    for directed graph, two mistakes can be counted as the edge in the wrong\n",
    "    direction is false and the edge in the good direction is missing; the\n",
    "    ``double_for_anticausal`` argument accounts for this remark. Setting it to\n",
    "    `False` will count this as a single mistake.\n",
    "\n",
    "    Parameters\n",
    "    ----------\n",
    "    true_graph : instance of nx.Graph or nx.DiGraph\n",
    "        The true graph as an instance of a MixedEdgeGraph with only one type of\n",
    "        edge.\n",
    "    pred_graph : instance of nx.Graph or nx.DiGraph\n",
    "        The predicted graph. The predicted graph and true graph must be\n",
    "        the same type.\n",
    "    double_for_anticausal : bool, optional\n",
    "        Whether to count incorrect orientations as two mistakes, by default True\n",
    "\n",
    "    Returns\n",
    "    -------\n",
    "    shd : float\n",
    "        The hamming distance between 0 and infinity.\n",
    "\n",
    "    Notes\n",
    "    -----\n",
    "    SHD is only well defined if you have a graph with only undirected edges,\n",
    "    or directed edges. That is, we only consider a Bayesian network, or a causal\n",
    "    DAG as candidates. If there are more than one type of edge within\n",
    "    the network, then SHD can be called on a sub-graph of that edge type. For example,\n",
    "    say you would like to compare a PAG, where there are directed, undirected, bidirected\n",
    "    and edges with circular endpoints. Currently, there is no known way of comparing\n",
    "    two PAGs systematically. Therefore, one can compare PAGs via the number of circle\n",
    "    edges, or the SHD of the undirected, bidirected, directed edge subgraphs.\n",
    "    \"\"\"\n",
    "\n",
    "    # convert graphs to adjacency matrix in numpy array format\n",
    "    # adj_mat = nx.to_numpy_array(true_graph)[np.ix_(idx, idx)]\n",
    "    # other_adj_mat = nx.to_numpy_array(pred_graph)[np.ix_(other_idx, other_idx)]\n",
    "\n",
    "    diff = np.abs(adj_mat - other_adj_mat)\n",
    "\n",
    "    if double_for_anticausal:\n",
    "        return np.sum(diff)\n",
    "    else:\n",
    "        diff = diff + diff.T\n",
    "        diff[diff > 1] = 1  # Ignoring the double edges.\n",
    "        return np.sum(diff) / 2"
   ]
  },
  {
   "cell_type": "code",
   "execution_count": 50,
   "id": "74d6fcb4",
   "metadata": {},
   "outputs": [
    {
     "data": {
      "text/plain": [
       "10.0"
      ]
     },
     "execution_count": 50,
     "metadata": {},
     "output_type": "execute_result"
    }
   ],
   "source": [
    "structure_hamming_dist(dag, dag_est, double_for_anticausal=True)"
   ]
  },
  {
   "cell_type": "code",
   "execution_count": 40,
   "id": "c190556e",
   "metadata": {},
   "outputs": [
    {
     "data": {
      "text/plain": [
       "10"
      ]
     },
     "execution_count": 40,
     "metadata": {},
     "output_type": "execute_result"
    }
   ],
   "source": [
    "compute_shd(dag, dag_est)"
   ]
  },
  {
   "cell_type": "code",
   "execution_count": 53,
   "id": "5699f631",
   "metadata": {},
   "outputs": [],
   "source": [
    "def edge_errors(true_labels, predictions):\n",
    "    \"\"\"\n",
    "    Counts all types of edge errors (false negatives, false positives, reversed edges)\n",
    "\n",
    "    Parameters:\n",
    "    -----------\n",
    "    pred: nx.DiGraph or ndarray\n",
    "        The predicted adjacency matrix\n",
    "    target: nx.DiGraph or ndarray\n",
    "        The true adjacency matrix\n",
    "\n",
    "    Returns:\n",
    "    --------\n",
    "    fn, fp, rev\n",
    "\n",
    "    \"\"\"\n",
    "\n",
    "    diff = true_labels - predictions\n",
    "\n",
    "    rev = (((diff + diff.transpose()) == 0) & (diff != 0)).sum() / 2\n",
    "    # Each reversed edge necessarily leads to one fp and one fn so we need to subtract those\n",
    "    fn = (diff == 1).sum() - rev\n",
    "    fp = (diff == -1).sum() - rev\n",
    "\n",
    "    return fn, fp, rev"
   ]
  },
  {
   "cell_type": "code",
   "execution_count": 54,
   "id": "8ecdb8d4",
   "metadata": {},
   "outputs": [
    {
     "data": {
      "text/plain": [
       "(1.0, 1.0, 4.0)"
      ]
     },
     "execution_count": 54,
     "metadata": {},
     "output_type": "execute_result"
    }
   ],
   "source": [
    "edge_errors(dag, dag_est)"
   ]
  },
  {
   "cell_type": "code",
   "execution_count": null,
   "id": "e093e3da",
   "metadata": {},
   "outputs": [],
   "source": [
    "import cdt\n",
    "sid = float(cdt.metrics.SID(target=dag, pred=dag_est))"
   ]
  },
  {
   "cell_type": "code",
   "execution_count": 62,
   "id": "3c51de33",
   "metadata": {},
   "outputs": [
    {
     "data": {
      "text/plain": [
       "23.0"
      ]
     },
     "execution_count": 62,
     "metadata": {},
     "output_type": "execute_result"
    }
   ],
   "source": [
    "sid"
   ]
  },
  {
   "cell_type": "code",
   "execution_count": 26,
   "id": "01b0de0a",
   "metadata": {},
   "outputs": [
    {
     "data": {
      "text/plain": [
       "<matplotlib.image.AxesImage at 0x7f050ca4a7f0>"
      ]
     },
     "execution_count": 26,
     "metadata": {},
     "output_type": "execute_result"
    },
    {
     "data": {
      "image/png": "[encoded data removed]",
      "text/plain": [
       "<Figure size 640x480 with 1 Axes>"
      ]
     },
     "metadata": {},
     "output_type": "display_data"
    }
   ],
   "source": [
    "import matplotlib.pyplot as plt\n",
    "\n",
    "plt.imshow(W_est)"
   ]
  },
  {
   "cell_type": "markdown",
   "id": "5630c820",
   "metadata": {},
   "source": [
    "# Test all datasets"
   ]
  },
  {
   "cell_type": "code",
   "execution_count": null,
   "id": "d0c446f2",
   "metadata": {},
   "outputs": [
    {
     "name": "stdout",
     "output_type": "stream",
     "text": [
      "Processing data directory: /home/ethan/IFT6168/project/dcdi/data/perfect/data_p10_e10_n10000_nnadd_struct\n",
      "Dataset 1: SHD = 9\n",
      "Dataset 2: SHD = 16\n",
      "Dataset 3: SHD = 5\n",
      "Dataset 4: SHD = 21\n",
      "Dataset 5: SHD = 13\n",
      "Dataset 6: SHD = 8\n",
      "Dataset 7: SHD = 19\n",
      "Dataset 8: SHD = 13\n",
      "Dataset 9: SHD = 10\n",
      "Dataset 10: SHD = 14\n",
      "Mean SHD for /home/ethan/IFT6168/project/dcdi/data/perfect/data_p10_e10_n10000_nnadd_struct: 12.8\n",
      "Variance of SHD for /home/ethan/IFT6168/project/dcdi/data/perfect/data_p10_e10_n10000_nnadd_struct: 22.360000000000003\n",
      "Processing data directory: /home/ethan/IFT6168/project/dcdi/data/perfect/data_p10_e10_n10000_nn_struct\n",
      "Dataset 1: SHD = 11\n",
      "Dataset 2: SHD = 14\n",
      "Dataset 3: SHD = 9\n",
      "Dataset 4: SHD = 14\n",
      "Dataset 5: SHD = 13\n",
      "Dataset 6: SHD = 13\n",
      "Dataset 7: SHD = 12\n",
      "Dataset 8: SHD = 9\n",
      "Dataset 9: SHD = 7\n",
      "Dataset 10: SHD = 11\n",
      "Mean SHD for /home/ethan/IFT6168/project/dcdi/data/perfect/data_p10_e10_n10000_nn_struct: 11.3\n",
      "Variance of SHD for /home/ethan/IFT6168/project/dcdi/data/perfect/data_p10_e10_n10000_nn_struct: 5.010000000000001\n",
      "Processing data directory: /home/ethan/IFT6168/project/dcdi/data/perfect/data_p10_e40_n10000_nnadd_struct\n",
      "Dataset 1: SHD = 45\n",
      "Dataset 2: SHD = 38\n",
      "Dataset 3: SHD = 37\n",
      "Dataset 4: SHD = 33\n",
      "Dataset 5: SHD = 37\n",
      "Dataset 6: SHD = 44\n",
      "Dataset 7: SHD = 42\n",
      "Dataset 8: SHD = 40\n",
      "Dataset 9: SHD = 33\n",
      "Dataset 10: SHD = 42\n",
      "Mean SHD for /home/ethan/IFT6168/project/dcdi/data/perfect/data_p10_e40_n10000_nnadd_struct: 39.1\n",
      "Variance of SHD for /home/ethan/IFT6168/project/dcdi/data/perfect/data_p10_e40_n10000_nnadd_struct: 16.09\n",
      "Processing data directory: /home/ethan/IFT6168/project/dcdi/data/perfect/data_p20_e80_n10000_nn_struct\n",
      "Dataset 1: SHD = 76\n",
      "Dataset 2: SHD = 89\n",
      "Dataset 3: SHD = 62\n",
      "Dataset 4: SHD = 94\n",
      "Dataset 5: SHD = 80\n",
      "Dataset 6: SHD = 63\n",
      "Dataset 7: SHD = 77\n",
      "Dataset 8: SHD = 77\n",
      "Dataset 9: SHD = 73\n",
      "Dataset 10: SHD = 79\n",
      "Mean SHD for /home/ethan/IFT6168/project/dcdi/data/perfect/data_p20_e80_n10000_nn_struct: 77.0\n",
      "Variance of SHD for /home/ethan/IFT6168/project/dcdi/data/perfect/data_p20_e80_n10000_nn_struct: 88.4\n",
      "Processing data directory: /home/ethan/IFT6168/project/dcdi/data/perfect/data_p20_e20_n10000_nn_struct\n",
      "Dataset 1: SHD = 21\n",
      "Dataset 2: SHD = 17\n",
      "Dataset 3: SHD = 24\n",
      "Dataset 4: SHD = 27\n",
      "Dataset 5: SHD = 17\n",
      "Dataset 6: SHD = 26\n",
      "Dataset 7: SHD = 21\n",
      "Dataset 8: SHD = 25\n",
      "Dataset 9: SHD = 33\n",
      "Dataset 10: SHD = 16\n",
      "Mean SHD for /home/ethan/IFT6168/project/dcdi/data/perfect/data_p20_e20_n10000_nn_struct: 22.7\n",
      "Variance of SHD for /home/ethan/IFT6168/project/dcdi/data/perfect/data_p20_e20_n10000_nn_struct: 25.810000000000002\n",
      "Processing data directory: /home/ethan/IFT6168/project/dcdi/data/perfect/data_p20_e80_n10000_nnadd_struct\n",
      "Dataset 1: SHD = 88\n",
      "Dataset 2: SHD = 92\n",
      "Dataset 3: SHD = 82\n",
      "Dataset 4: SHD = 90\n",
      "Dataset 5: SHD = 68\n",
      "Dataset 6: SHD = 83\n",
      "Dataset 7: SHD = 80\n",
      "Dataset 8: SHD = 62\n",
      "Dataset 9: SHD = 77\n",
      "Dataset 10: SHD = 78\n",
      "Mean SHD for /home/ethan/IFT6168/project/dcdi/data/perfect/data_p20_e80_n10000_nnadd_struct: 80.0\n",
      "Variance of SHD for /home/ethan/IFT6168/project/dcdi/data/perfect/data_p20_e80_n10000_nnadd_struct: 80.2\n",
      "Processing data directory: /home/ethan/IFT6168/project/dcdi/data/perfect/data_p10_e40_n10000_linear_struct\n",
      "Dataset 1: SHD = 40\n",
      "Dataset 2: SHD = 42\n",
      "Dataset 3: SHD = 44\n",
      "Dataset 4: SHD = 39\n",
      "Dataset 5: SHD = 33\n",
      "Dataset 6: SHD = 38\n",
      "Dataset 7: SHD = 42\n",
      "Dataset 8: SHD = 35\n",
      "Dataset 9: SHD = 39\n",
      "Dataset 10: SHD = 38\n",
      "Mean SHD for /home/ethan/IFT6168/project/dcdi/data/perfect/data_p10_e40_n10000_linear_struct: 39.0\n",
      "Variance of SHD for /home/ethan/IFT6168/project/dcdi/data/perfect/data_p10_e40_n10000_linear_struct: 9.8\n",
      "Processing data directory: /home/ethan/IFT6168/project/dcdi/data/perfect/data_p10_e10_n10000_linear_struct\n",
      "Dataset 1: SHD = 8\n",
      "Dataset 2: SHD = 11\n",
      "Dataset 3: SHD = 8\n",
      "Dataset 4: SHD = 10\n",
      "Dataset 5: SHD = 12\n",
      "Dataset 6: SHD = 18\n",
      "Dataset 7: SHD = 10\n",
      "Dataset 8: SHD = 6\n",
      "Dataset 9: SHD = 14\n",
      "Dataset 10: SHD = 6\n",
      "Mean SHD for /home/ethan/IFT6168/project/dcdi/data/perfect/data_p10_e10_n10000_linear_struct: 10.3\n",
      "Variance of SHD for /home/ethan/IFT6168/project/dcdi/data/perfect/data_p10_e10_n10000_linear_struct: 12.41\n",
      "Processing data directory: /home/ethan/IFT6168/project/dcdi/data/perfect/data_p10_e40_n10000_nn_struct\n",
      "Dataset 1: SHD = 34\n",
      "Dataset 2: SHD = 36\n",
      "Dataset 3: SHD = 40\n",
      "Dataset 4: SHD = 35\n",
      "Dataset 5: SHD = 45\n",
      "Dataset 6: SHD = 41\n",
      "Dataset 7: SHD = 34\n",
      "Dataset 8: SHD = 42\n",
      "Dataset 9: SHD = 39\n",
      "Dataset 10: SHD = 43\n",
      "Mean SHD for /home/ethan/IFT6168/project/dcdi/data/perfect/data_p10_e40_n10000_nn_struct: 38.9\n",
      "Variance of SHD for /home/ethan/IFT6168/project/dcdi/data/perfect/data_p10_e40_n10000_nn_struct: 14.09\n",
      "Processing data directory: /home/ethan/IFT6168/project/dcdi/data/perfect/data_p20_e80_n10000_linear_struct\n",
      "Dataset 1: SHD = 75\n",
      "Dataset 2: SHD = 96\n"
     ]
    }
   ],
   "source": [
    "# Dictionary to store SHD values and statistics for each data directory\n",
    "shd_stats_per_dir = {}\n",
    "\n",
    "# List of data directories to iterate through\n",
    "data_dirs = [\n",
    "    os.path.join('/home/ethan/IFT6168/project/dcdi/data/perfect', d)\n",
    "    for d in os.listdir('/home/ethan/IFT6168/project/dcdi/data/perfect')\n",
    "    if os.path.isdir(os.path.join('/home/ethan/IFT6168/project/dcdi/data/perfect', d)) and d != 'sachs_intervention'\n",
    "]\n",
    "\n",
    "# Iterate through each data directory\n",
    "for data_dir in data_dirs:\n",
    "    print(f\"Processing data directory: {data_dir}\")\n",
    "    \n",
    "    shd_values = []  # Reset SHD values for the current directory\n",
    "    \n",
    "    # Iterate through the 10 datasets in the current directory\n",
    "    for i in range(1, 11):\n",
    "        # Load the DAG and observational data\n",
    "        dag_path = os.path.join(data_dir, f'DAG{i}.npy')\n",
    "        obs_data_path = os.path.join(data_dir, f'data{i}.npy')\n",
    "        \n",
    "        dag = np.load(dag_path)  # Ground truth DAG\n",
    "        obs_data = np.load(obs_data_path)  # Observational data\n",
    "        \n",
    "        # Run NOTEARS linear\n",
    "        lambda1 = 0.1  # Regularization parameter\n",
    "        w_threshold = 0.3  # Threshold for edge weights\n",
    "        W_est = linear.notears_linear(obs_data, lambda1=lambda1, loss_type='l2')\n",
    "        W_est[np.abs(W_est) < w_threshold] = 0  # Apply thresholding\n",
    "        \n",
    "        # Compute the SHD (Structural Hamming Distance)\n",
    "        shd = np.sum((W_est != 0) != (dag != 0))  # Compare adjacency matrices\n",
    "        shd_values.append(shd)\n",
    "        \n",
    "        # Print the SHD for the current dataset\n",
    "        print(f\"Dataset {i}: SHD = {shd}\")\n",
    "    \n",
    "    # Compute the mean and variance of SHD values for the current directory\n",
    "    mean_shd = np.mean(shd_values)\n",
    "    variance_shd = np.var(shd_values)\n",
    "    \n",
    "    # Store the full SHD values and statistics in the dictionary\n",
    "    shd_stats_per_dir[data_dir] = {\n",
    "        'shd_values': shd_values,\n",
    "        'mean_shd': mean_shd,\n",
    "        'variance_shd': variance_shd\n",
    "    }\n",
    "    \n",
    "    print(f\"Mean SHD for {data_dir}: {mean_shd}\")\n",
    "    print(f\"Variance of SHD for {data_dir}: {variance_shd}\")\n",
    "\n",
    "# Display the SHD statistics for all directories\n",
    "print(\"SHD Statistics per Data Directory:\")\n",
    "print(shd_stats_per_dir)"
   ]
  },
  {
   "cell_type": "code",
   "execution_count": 74,
   "id": "114f70de",
   "metadata": {},
   "outputs": [
    {
     "data": {
      "text/plain": [
       "['/home/ethan/IFT6168/project/dcdi/data/perfect/sachs_intervention',\n",
       " '/home/ethan/IFT6168/project/dcdi/data/perfect/data_p10_e10_n10000_nnadd_struct',\n",
       " '/home/ethan/IFT6168/project/dcdi/data/perfect/data_p10_e10_n10000_nn_struct',\n",
       " '/home/ethan/IFT6168/project/dcdi/data/perfect/data_p10_e40_n10000_nnadd_struct',\n",
       " '/home/ethan/IFT6168/project/dcdi/data/perfect/data_p20_e80_n10000_nn_struct',\n",
       " '/home/ethan/IFT6168/project/dcdi/data/perfect/data_p20_e20_n10000_nn_struct',\n",
       " '/home/ethan/IFT6168/project/dcdi/data/perfect/data_p20_e80_n10000_nnadd_struct',\n",
       " '/home/ethan/IFT6168/project/dcdi/data/perfect/data_p10_e40_n10000_linear_struct',\n",
       " '/home/ethan/IFT6168/project/dcdi/data/perfect/data_p10_e10_n10000_linear_struct',\n",
       " '/home/ethan/IFT6168/project/dcdi/data/perfect/data_p10_e40_n10000_nn_struct',\n",
       " '/home/ethan/IFT6168/project/dcdi/data/perfect/data_p20_e80_n10000_linear_struct',\n",
       " '/home/ethan/IFT6168/project/dcdi/data/perfect/data_p20_e20_n10000_linear_struct',\n",
       " '/home/ethan/IFT6168/project/dcdi/data/perfect/data_p20_e20_n10000_nnadd_struct']"
      ]
     },
     "execution_count": 74,
     "metadata": {},
     "output_type": "execute_result"
    }
   ],
   "source": [
    "data_dirs"
   ]
  }
 ],
 "metadata": {
  "kernelspec": {
   "display_name": "dcdi_conda_env",
   "language": "python",
   "name": "python3"
  },
  "language_info": {
   "codemirror_mode": {
    "name": "ipython",
    "version": 3
   },
   "file_extension": ".py",
   "mimetype": "text/x-python",
   "name": "python",
   "nbconvert_exporter": "python",
   "pygments_lexer": "ipython3",
   "version": "3.9.18"
  }
 },
 "nbformat": 4,
 "nbformat_minor": 5
}
