{
 "cells": [
  {
   "cell_type": "code",
   "execution_count": 24,
   "id": "6f3311dd",
   "metadata": {},
   "outputs": [],
   "source": [
    "import pandas as pd\n",
    "import numpy as np\n",
    "import cdt\n",
    "import networkx as nx\n",
    "import os\n",
    "from notears.notears import linear\n",
    "from notears.notears import utils\n",
    "\n",
    "from causallearn.search.ConstraintBased.PC import pc\n",
    "from causallearn.utils.GraphUtils import GraphUtils\n",
    "from causallearn.utils.cit import fisherz\n",
    "\n",
    "import matplotlib.pyplot as plt"
   ]
  },
  {
   "cell_type": "code",
   "execution_count": 25,
   "id": "c10026ef",
   "metadata": {},
   "outputs": [],
   "source": [
    "def convert_cpdag_format(causal_graph):\n",
    "    \"\"\"\n",
    "    Convert the CPDAG format from CausalGraph (cg.G.graph) to an adjacency matrix format.\n",
    "    \n",
    "    Args:\n",
    "        causal_graph: A CausalGraph object with cg.G.graph as the adjacency matrix.\n",
    "    \n",
    "    Returns:\n",
    "        A NumPy adjacency matrix where:\n",
    "        - 1 represents an edge (directed or undirected).\n",
    "        - 0 represents no edge.\n",
    "    \"\"\"\n",
    "    # Extract the graph matrix\n",
    "    graph_matrix = causal_graph.G.graph\n",
    "    n = graph_matrix.shape[0]\n",
    "    \n",
    "    # Initialize the adjacency matrix\n",
    "    adjacency_matrix = np.zeros((n, n), dtype=int)\n",
    "    \n",
    "    for i in range(n):\n",
    "        for j in range(n):\n",
    "            if graph_matrix[j, i] == 1 and graph_matrix[i, j] == -1:\n",
    "                # Directed edge i -> j\n",
    "                adjacency_matrix[i, j] = 1\n",
    "            elif graph_matrix[i, j] == -1 and graph_matrix[j, i] == -1:\n",
    "                # Undirected edge i -- j\n",
    "                adjacency_matrix[i, j] = 1\n",
    "                adjacency_matrix[j, i] = 1\n",
    "            elif graph_matrix[i, j] == 1 and graph_matrix[j, i] == 1:\n",
    "                # Bidirectional edge i <-> j\n",
    "                adjacency_matrix[i, j] = 1\n",
    "                adjacency_matrix[j, i] = 1\n",
    "    \n",
    "    return adjacency_matrix"
   ]
  },
  {
   "cell_type": "code",
   "execution_count": 26,
   "id": "d8585df7",
   "metadata": {},
   "outputs": [],
   "source": [
    "data_dir = '/cim/ehoney/IFT6168_project/dcdi/data/perfect'\n",
    "\n",
    "# List of folder names in the data directory\n",
    "data_folder_names = [\n",
    "    d\n",
    "    for d in os.listdir(data_dir)\n",
    "    if os.path.isdir(os.path.join(data_dir, d))\n",
    "    and d != 'sachs_intervention' and not d.endswith('.zip')\n",
    "]\n",
    "\n",
    "data_folder_names.sort()"
   ]
  },
  {
   "cell_type": "code",
   "execution_count": 27,
   "id": "c95d21ff",
   "metadata": {},
   "outputs": [],
   "source": [
    "out_dir = '/cim/ehoney/IFT6168_project/experiments/baseline'"
   ]
  },
  {
   "cell_type": "code",
   "execution_count": null,
   "id": "257993af",
   "metadata": {},
   "outputs": [],
   "source": [
    "lambda1 = 0.5\n",
    "loss_type = 'l2'"
   ]
  },
  {
   "cell_type": "code",
   "execution_count": 29,
   "id": "4f303709",
   "metadata": {},
   "outputs": [
    {
     "name": "stdout",
     "output_type": "stream",
     "text": [
      "Processing data directory: /cim/ehoney/IFT6168_project/dcdi/data/perfect/data_p10_e10_n10000_linear_struct\n"
     ]
    },
    {
     "data": {
      "application/vnd.jupyter.widget-view+json": {
       "model_id": "4e9411da07a3498299b9b17e621bcc9d",
       "version_major": 2,
       "version_minor": 0
      },
      "text/plain": [
       "  0%|          | 0/10 [00:00<?, ?it/s]"
      ]
     },
     "metadata": {},
     "output_type": "display_data"
    },
    {
     "name": "stdout",
     "output_type": "stream",
     "text": [
      "Dataset 1: PC SHD = 0.0, NOTEARS SHD = 6.0\n"
     ]
    },
    {
     "data": {
      "application/vnd.jupyter.widget-view+json": {
       "model_id": "f1e4a7e208fd4f379fbe444896bba1fe",
       "version_major": 2,
       "version_minor": 0
      },
      "text/plain": [
       "  0%|          | 0/10 [00:00<?, ?it/s]"
      ]
     },
     "metadata": {},
     "output_type": "display_data"
    },
    {
     "name": "stdout",
     "output_type": "stream",
     "text": [
      "Dataset 2: PC SHD = 6.0, NOTEARS SHD = 7.0\n"
     ]
    },
    {
     "data": {
      "application/vnd.jupyter.widget-view+json": {
       "model_id": "7367a7fe162c48caaf80f8a110fbe736",
       "version_major": 2,
       "version_minor": 0
      },
      "text/plain": [
       "  0%|          | 0/10 [00:00<?, ?it/s]"
      ]
     },
     "metadata": {},
     "output_type": "display_data"
    },
    {
     "name": "stdout",
     "output_type": "stream",
     "text": [
      "Dataset 3: PC SHD = 0.0, NOTEARS SHD = 5.0\n"
     ]
    },
    {
     "data": {
      "application/vnd.jupyter.widget-view+json": {
       "model_id": "1186dc727910489691b03ed9693de75b",
       "version_major": 2,
       "version_minor": 0
      },
      "text/plain": [
       "  0%|          | 0/10 [00:00<?, ?it/s]"
      ]
     },
     "metadata": {},
     "output_type": "display_data"
    },
    {
     "name": "stdout",
     "output_type": "stream",
     "text": [
      "Dataset 4: PC SHD = 0.0, NOTEARS SHD = 6.0\n"
     ]
    },
    {
     "data": {
      "application/vnd.jupyter.widget-view+json": {
       "model_id": "b2c3da3cf0a6402c866b349195634d07",
       "version_major": 2,
       "version_minor": 0
      },
      "text/plain": [
       "  0%|          | 0/10 [00:00<?, ?it/s]"
      ]
     },
     "metadata": {},
     "output_type": "display_data"
    },
    {
     "name": "stdout",
     "output_type": "stream",
     "text": [
      "Dataset 5: PC SHD = 0.0, NOTEARS SHD = 7.0\n"
     ]
    },
    {
     "data": {
      "application/vnd.jupyter.widget-view+json": {
       "model_id": "394ec946b9034f64ab52f7e493944280",
       "version_major": 2,
       "version_minor": 0
      },
      "text/plain": [
       "  0%|          | 0/10 [00:00<?, ?it/s]"
      ]
     },
     "metadata": {},
     "output_type": "display_data"
    },
    {
     "name": "stdout",
     "output_type": "stream",
     "text": [
      "Dataset 6: PC SHD = 0.0, NOTEARS SHD = 14.0\n"
     ]
    },
    {
     "data": {
      "application/vnd.jupyter.widget-view+json": {
       "model_id": "43a16f5c52214d5fab370feaafd5f3a0",
       "version_major": 2,
       "version_minor": 0
      },
      "text/plain": [
       "  0%|          | 0/10 [00:00<?, ?it/s]"
      ]
     },
     "metadata": {},
     "output_type": "display_data"
    },
    {
     "name": "stdout",
     "output_type": "stream",
     "text": [
      "Dataset 7: PC SHD = 0.0, NOTEARS SHD = 6.0\n"
     ]
    },
    {
     "data": {
      "application/vnd.jupyter.widget-view+json": {
       "model_id": "4b4a49b656fb4ecab55984259f30eb3e",
       "version_major": 2,
       "version_minor": 0
      },
      "text/plain": [
       "  0%|          | 0/10 [00:00<?, ?it/s]"
      ]
     },
     "metadata": {},
     "output_type": "display_data"
    },
    {
     "name": "stdout",
     "output_type": "stream",
     "text": [
      "Dataset 8: PC SHD = 0.0, NOTEARS SHD = 4.0\n"
     ]
    },
    {
     "data": {
      "application/vnd.jupyter.widget-view+json": {
       "model_id": "a0363cf81d074748ad8aa47b38d2d9c0",
       "version_major": 2,
       "version_minor": 0
      },
      "text/plain": [
       "  0%|          | 0/10 [00:00<?, ?it/s]"
      ]
     },
     "metadata": {},
     "output_type": "display_data"
    },
    {
     "name": "stdout",
     "output_type": "stream",
     "text": [
      "Dataset 9: PC SHD = 0.0, NOTEARS SHD = 9.0\n"
     ]
    },
    {
     "data": {
      "application/vnd.jupyter.widget-view+json": {
       "model_id": "f330298c7cec4289a101bf8cb107c10f",
       "version_major": 2,
       "version_minor": 0
      },
      "text/plain": [
       "  0%|          | 0/10 [00:00<?, ?it/s]"
      ]
     },
     "metadata": {},
     "output_type": "display_data"
    },
    {
     "name": "stdout",
     "output_type": "stream",
     "text": [
      "Dataset 10: PC SHD = 0.0, NOTEARS SHD = 4.0\n",
      "Mean PC SHD for data_p10_e10_n10000_linear_struct: 0.6\n",
      "Variance PC SHD for data_p10_e10_n10000_linear_struct: 3.2400000000000007\n",
      "Mean NOTEARS SHD for data_p10_e10_n10000_linear_struct: 6.8\n",
      "Variance NOTEARS SHD for data_p10_e10_n10000_linear_struct: 7.760000000000001\n",
      "Processing data directory: /cim/ehoney/IFT6168_project/dcdi/data/perfect/data_p10_e10_n10000_nn_struct\n"
     ]
    },
    {
     "data": {
      "application/vnd.jupyter.widget-view+json": {
       "model_id": "c47247daaafc4df88ee506e14799ee01",
       "version_major": 2,
       "version_minor": 0
      },
      "text/plain": [
       "  0%|          | 0/10 [00:00<?, ?it/s]"
      ]
     },
     "metadata": {},
     "output_type": "display_data"
    },
    {
     "ename": "KeyboardInterrupt",
     "evalue": "",
     "output_type": "error",
     "traceback": [
      "\u001b[0;31m---------------------------------------------------------------------------\u001b[0m",
      "\u001b[0;31mKeyboardInterrupt\u001b[0m                         Traceback (most recent call last)",
      "Cell \u001b[0;32mIn[29], line 43\u001b[0m\n\u001b[1;32m     39\u001b[0m metrics[data_folder_name][i][\u001b[38;5;124m'\u001b[39m\u001b[38;5;124mPC_SHD\u001b[39m\u001b[38;5;124m'\u001b[39m] \u001b[38;5;241m=\u001b[39m pc_shd\n\u001b[1;32m     42\u001b[0m \u001b[38;5;66;03m## NOTEARS\u001b[39;00m\n\u001b[0;32m---> 43\u001b[0m W_est \u001b[38;5;241m=\u001b[39m \u001b[43mlinear\u001b[49m\u001b[38;5;241;43m.\u001b[39;49m\u001b[43mnotears_linear\u001b[49m\u001b[43m(\u001b[49m\u001b[43mobs_data\u001b[49m\u001b[43m,\u001b[49m\u001b[43m \u001b[49m\u001b[43mlambda1\u001b[49m\u001b[38;5;241;43m=\u001b[39;49m\u001b[43mlambda1\u001b[49m\u001b[43m,\u001b[49m\u001b[43m \u001b[49m\u001b[43mloss_type\u001b[49m\u001b[38;5;241;43m=\u001b[39;49m\u001b[43mloss_type\u001b[49m\u001b[43m)\u001b[49m\n\u001b[1;32m     45\u001b[0m \u001b[38;5;66;03m# Save the estimated W matrix\u001b[39;00m\n\u001b[1;32m     46\u001b[0m output_path \u001b[38;5;241m=\u001b[39m os\u001b[38;5;241m.\u001b[39mpath\u001b[38;5;241m.\u001b[39mjoin(output_dir, \u001b[38;5;124mf\u001b[39m\u001b[38;5;124m'\u001b[39m\u001b[38;5;124mNOTEARS_W\u001b[39m\u001b[38;5;132;01m{\u001b[39;00mi\u001b[38;5;132;01m}\u001b[39;00m\u001b[38;5;124m.npy\u001b[39m\u001b[38;5;124m'\u001b[39m)\n",
      "File \u001b[0;32m/cim/ehoney/IFT6168_project/notears/notears/linear.py:73\u001b[0m, in \u001b[0;36mnotears_linear\u001b[0;34m(X, lambda1, loss_type, max_iter, h_tol, rho_max, w_threshold)\u001b[0m\n\u001b[1;32m     71\u001b[0m w_new, h_new \u001b[38;5;241m=\u001b[39m \u001b[38;5;28;01mNone\u001b[39;00m, \u001b[38;5;28;01mNone\u001b[39;00m\n\u001b[1;32m     72\u001b[0m \u001b[38;5;28;01mwhile\u001b[39;00m rho \u001b[38;5;241m<\u001b[39m rho_max:\n\u001b[0;32m---> 73\u001b[0m     sol \u001b[38;5;241m=\u001b[39m \u001b[43msopt\u001b[49m\u001b[38;5;241;43m.\u001b[39;49m\u001b[43mminimize\u001b[49m\u001b[43m(\u001b[49m\u001b[43m_func\u001b[49m\u001b[43m,\u001b[49m\u001b[43m \u001b[49m\u001b[43mw_est\u001b[49m\u001b[43m,\u001b[49m\u001b[43m \u001b[49m\u001b[43mmethod\u001b[49m\u001b[38;5;241;43m=\u001b[39;49m\u001b[38;5;124;43m'\u001b[39;49m\u001b[38;5;124;43mL-BFGS-B\u001b[39;49m\u001b[38;5;124;43m'\u001b[39;49m\u001b[43m,\u001b[49m\u001b[43m \u001b[49m\u001b[43mjac\u001b[49m\u001b[38;5;241;43m=\u001b[39;49m\u001b[38;5;28;43;01mTrue\u001b[39;49;00m\u001b[43m,\u001b[49m\u001b[43m \u001b[49m\u001b[43mbounds\u001b[49m\u001b[38;5;241;43m=\u001b[39;49m\u001b[43mbnds\u001b[49m\u001b[43m)\u001b[49m\n\u001b[1;32m     74\u001b[0m     w_new \u001b[38;5;241m=\u001b[39m sol\u001b[38;5;241m.\u001b[39mx\n\u001b[1;32m     75\u001b[0m     h_new, _ \u001b[38;5;241m=\u001b[39m _h(_adj(w_new))\n",
      "File \u001b[0;32m/cim/ehoney/miniconda3/envs/dcdi_conda_env/lib/python3.9/site-packages/scipy/optimize/_minimize.py:713\u001b[0m, in \u001b[0;36mminimize\u001b[0;34m(fun, x0, args, method, jac, hess, hessp, bounds, constraints, tol, callback, options)\u001b[0m\n\u001b[1;32m    710\u001b[0m     res \u001b[38;5;241m=\u001b[39m _minimize_newtoncg(fun, x0, args, jac, hess, hessp, callback,\n\u001b[1;32m    711\u001b[0m                              \u001b[38;5;241m*\u001b[39m\u001b[38;5;241m*\u001b[39moptions)\n\u001b[1;32m    712\u001b[0m \u001b[38;5;28;01melif\u001b[39;00m meth \u001b[38;5;241m==\u001b[39m \u001b[38;5;124m'\u001b[39m\u001b[38;5;124ml-bfgs-b\u001b[39m\u001b[38;5;124m'\u001b[39m:\n\u001b[0;32m--> 713\u001b[0m     res \u001b[38;5;241m=\u001b[39m \u001b[43m_minimize_lbfgsb\u001b[49m\u001b[43m(\u001b[49m\u001b[43mfun\u001b[49m\u001b[43m,\u001b[49m\u001b[43m \u001b[49m\u001b[43mx0\u001b[49m\u001b[43m,\u001b[49m\u001b[43m \u001b[49m\u001b[43margs\u001b[49m\u001b[43m,\u001b[49m\u001b[43m \u001b[49m\u001b[43mjac\u001b[49m\u001b[43m,\u001b[49m\u001b[43m \u001b[49m\u001b[43mbounds\u001b[49m\u001b[43m,\u001b[49m\n\u001b[1;32m    714\u001b[0m \u001b[43m                           \u001b[49m\u001b[43mcallback\u001b[49m\u001b[38;5;241;43m=\u001b[39;49m\u001b[43mcallback\u001b[49m\u001b[43m,\u001b[49m\u001b[43m \u001b[49m\u001b[38;5;241;43m*\u001b[39;49m\u001b[38;5;241;43m*\u001b[39;49m\u001b[43moptions\u001b[49m\u001b[43m)\u001b[49m\n\u001b[1;32m    715\u001b[0m \u001b[38;5;28;01melif\u001b[39;00m meth \u001b[38;5;241m==\u001b[39m \u001b[38;5;124m'\u001b[39m\u001b[38;5;124mtnc\u001b[39m\u001b[38;5;124m'\u001b[39m:\n\u001b[1;32m    716\u001b[0m     res \u001b[38;5;241m=\u001b[39m _minimize_tnc(fun, x0, args, jac, bounds, callback\u001b[38;5;241m=\u001b[39mcallback,\n\u001b[1;32m    717\u001b[0m                         \u001b[38;5;241m*\u001b[39m\u001b[38;5;241m*\u001b[39moptions)\n",
      "File \u001b[0;32m/cim/ehoney/miniconda3/envs/dcdi_conda_env/lib/python3.9/site-packages/scipy/optimize/_lbfgsb_py.py:407\u001b[0m, in \u001b[0;36m_minimize_lbfgsb\u001b[0;34m(fun, x0, args, jac, bounds, disp, maxcor, ftol, gtol, eps, maxfun, maxiter, iprint, callback, maxls, finite_diff_rel_step, **unknown_options)\u001b[0m\n\u001b[1;32m    401\u001b[0m task_str \u001b[38;5;241m=\u001b[39m task\u001b[38;5;241m.\u001b[39mtobytes()\n\u001b[1;32m    402\u001b[0m \u001b[38;5;28;01mif\u001b[39;00m task_str\u001b[38;5;241m.\u001b[39mstartswith(\u001b[38;5;124mb\u001b[39m\u001b[38;5;124m'\u001b[39m\u001b[38;5;124mFG\u001b[39m\u001b[38;5;124m'\u001b[39m):\n\u001b[1;32m    403\u001b[0m     \u001b[38;5;66;03m# The minimization routine wants f and g at the current x.\u001b[39;00m\n\u001b[1;32m    404\u001b[0m     \u001b[38;5;66;03m# Note that interruptions due to maxfun are postponed\u001b[39;00m\n\u001b[1;32m    405\u001b[0m     \u001b[38;5;66;03m# until the completion of the current minimization iteration.\u001b[39;00m\n\u001b[1;32m    406\u001b[0m     \u001b[38;5;66;03m# Overwrite f and g:\u001b[39;00m\n\u001b[0;32m--> 407\u001b[0m     f, g \u001b[38;5;241m=\u001b[39m \u001b[43mfunc_and_grad\u001b[49m\u001b[43m(\u001b[49m\u001b[43mx\u001b[49m\u001b[43m)\u001b[49m\n\u001b[1;32m    408\u001b[0m \u001b[38;5;28;01melif\u001b[39;00m task_str\u001b[38;5;241m.\u001b[39mstartswith(\u001b[38;5;124mb\u001b[39m\u001b[38;5;124m'\u001b[39m\u001b[38;5;124mNEW_X\u001b[39m\u001b[38;5;124m'\u001b[39m):\n\u001b[1;32m    409\u001b[0m     \u001b[38;5;66;03m# new iteration\u001b[39;00m\n\u001b[1;32m    410\u001b[0m     n_iterations \u001b[38;5;241m+\u001b[39m\u001b[38;5;241m=\u001b[39m \u001b[38;5;241m1\u001b[39m\n",
      "File \u001b[0;32m/cim/ehoney/miniconda3/envs/dcdi_conda_env/lib/python3.9/site-packages/scipy/optimize/_differentiable_functions.py:296\u001b[0m, in \u001b[0;36mScalarFunction.fun_and_grad\u001b[0;34m(self, x)\u001b[0m\n\u001b[1;32m    294\u001b[0m \u001b[38;5;28;01mif\u001b[39;00m \u001b[38;5;129;01mnot\u001b[39;00m np\u001b[38;5;241m.\u001b[39marray_equal(x, \u001b[38;5;28mself\u001b[39m\u001b[38;5;241m.\u001b[39mx):\n\u001b[1;32m    295\u001b[0m     \u001b[38;5;28mself\u001b[39m\u001b[38;5;241m.\u001b[39m_update_x_impl(x)\n\u001b[0;32m--> 296\u001b[0m \u001b[38;5;28;43mself\u001b[39;49m\u001b[38;5;241;43m.\u001b[39;49m\u001b[43m_update_fun\u001b[49m\u001b[43m(\u001b[49m\u001b[43m)\u001b[49m\n\u001b[1;32m    297\u001b[0m \u001b[38;5;28mself\u001b[39m\u001b[38;5;241m.\u001b[39m_update_grad()\n\u001b[1;32m    298\u001b[0m \u001b[38;5;28;01mreturn\u001b[39;00m \u001b[38;5;28mself\u001b[39m\u001b[38;5;241m.\u001b[39mf, \u001b[38;5;28mself\u001b[39m\u001b[38;5;241m.\u001b[39mg\n",
      "File \u001b[0;32m/cim/ehoney/miniconda3/envs/dcdi_conda_env/lib/python3.9/site-packages/scipy/optimize/_differentiable_functions.py:262\u001b[0m, in \u001b[0;36mScalarFunction._update_fun\u001b[0;34m(self)\u001b[0m\n\u001b[1;32m    260\u001b[0m \u001b[38;5;28;01mdef\u001b[39;00m\u001b[38;5;250m \u001b[39m\u001b[38;5;21m_update_fun\u001b[39m(\u001b[38;5;28mself\u001b[39m):\n\u001b[1;32m    261\u001b[0m     \u001b[38;5;28;01mif\u001b[39;00m \u001b[38;5;129;01mnot\u001b[39;00m \u001b[38;5;28mself\u001b[39m\u001b[38;5;241m.\u001b[39mf_updated:\n\u001b[0;32m--> 262\u001b[0m         \u001b[38;5;28;43mself\u001b[39;49m\u001b[38;5;241;43m.\u001b[39;49m\u001b[43m_update_fun_impl\u001b[49m\u001b[43m(\u001b[49m\u001b[43m)\u001b[49m\n\u001b[1;32m    263\u001b[0m         \u001b[38;5;28mself\u001b[39m\u001b[38;5;241m.\u001b[39mf_updated \u001b[38;5;241m=\u001b[39m \u001b[38;5;28;01mTrue\u001b[39;00m\n",
      "File \u001b[0;32m/cim/ehoney/miniconda3/envs/dcdi_conda_env/lib/python3.9/site-packages/scipy/optimize/_differentiable_functions.py:163\u001b[0m, in \u001b[0;36mScalarFunction.__init__.<locals>.update_fun\u001b[0;34m()\u001b[0m\n\u001b[1;32m    162\u001b[0m \u001b[38;5;28;01mdef\u001b[39;00m\u001b[38;5;250m \u001b[39m\u001b[38;5;21mupdate_fun\u001b[39m():\n\u001b[0;32m--> 163\u001b[0m     \u001b[38;5;28mself\u001b[39m\u001b[38;5;241m.\u001b[39mf \u001b[38;5;241m=\u001b[39m \u001b[43mfun_wrapped\u001b[49m\u001b[43m(\u001b[49m\u001b[38;5;28;43mself\u001b[39;49m\u001b[38;5;241;43m.\u001b[39;49m\u001b[43mx\u001b[49m\u001b[43m)\u001b[49m\n",
      "File \u001b[0;32m/cim/ehoney/miniconda3/envs/dcdi_conda_env/lib/python3.9/site-packages/scipy/optimize/_differentiable_functions.py:145\u001b[0m, in \u001b[0;36mScalarFunction.__init__.<locals>.fun_wrapped\u001b[0;34m(x)\u001b[0m\n\u001b[1;32m    141\u001b[0m \u001b[38;5;28mself\u001b[39m\u001b[38;5;241m.\u001b[39mnfev \u001b[38;5;241m+\u001b[39m\u001b[38;5;241m=\u001b[39m \u001b[38;5;241m1\u001b[39m\n\u001b[1;32m    142\u001b[0m \u001b[38;5;66;03m# Send a copy because the user may overwrite it.\u001b[39;00m\n\u001b[1;32m    143\u001b[0m \u001b[38;5;66;03m# Overwriting results in undefined behaviour because\u001b[39;00m\n\u001b[1;32m    144\u001b[0m \u001b[38;5;66;03m# fun(self.x) will change self.x, with the two no longer linked.\u001b[39;00m\n\u001b[0;32m--> 145\u001b[0m fx \u001b[38;5;241m=\u001b[39m \u001b[43mfun\u001b[49m\u001b[43m(\u001b[49m\u001b[43mnp\u001b[49m\u001b[38;5;241;43m.\u001b[39;49m\u001b[43mcopy\u001b[49m\u001b[43m(\u001b[49m\u001b[43mx\u001b[49m\u001b[43m)\u001b[49m\u001b[43m,\u001b[49m\u001b[43m \u001b[49m\u001b[38;5;241;43m*\u001b[39;49m\u001b[43margs\u001b[49m\u001b[43m)\u001b[49m\n\u001b[1;32m    146\u001b[0m \u001b[38;5;66;03m# Make sure the function returns a true scalar\u001b[39;00m\n\u001b[1;32m    147\u001b[0m \u001b[38;5;28;01mif\u001b[39;00m \u001b[38;5;129;01mnot\u001b[39;00m np\u001b[38;5;241m.\u001b[39misscalar(fx):\n",
      "File \u001b[0;32m/cim/ehoney/miniconda3/envs/dcdi_conda_env/lib/python3.9/site-packages/scipy/optimize/_optimize.py:79\u001b[0m, in \u001b[0;36mMemoizeJac.__call__\u001b[0;34m(self, x, *args)\u001b[0m\n\u001b[1;32m     77\u001b[0m \u001b[38;5;28;01mdef\u001b[39;00m\u001b[38;5;250m \u001b[39m\u001b[38;5;21m__call__\u001b[39m(\u001b[38;5;28mself\u001b[39m, x, \u001b[38;5;241m*\u001b[39margs):\n\u001b[1;32m     78\u001b[0m \u001b[38;5;250m    \u001b[39m\u001b[38;5;124;03m\"\"\" returns the function value \"\"\"\u001b[39;00m\n\u001b[0;32m---> 79\u001b[0m     \u001b[38;5;28;43mself\u001b[39;49m\u001b[38;5;241;43m.\u001b[39;49m\u001b[43m_compute_if_needed\u001b[49m\u001b[43m(\u001b[49m\u001b[43mx\u001b[49m\u001b[43m,\u001b[49m\u001b[43m \u001b[49m\u001b[38;5;241;43m*\u001b[39;49m\u001b[43margs\u001b[49m\u001b[43m)\u001b[49m\n\u001b[1;32m     80\u001b[0m     \u001b[38;5;28;01mreturn\u001b[39;00m \u001b[38;5;28mself\u001b[39m\u001b[38;5;241m.\u001b[39m_value\n",
      "File \u001b[0;32m/cim/ehoney/miniconda3/envs/dcdi_conda_env/lib/python3.9/site-packages/scipy/optimize/_optimize.py:73\u001b[0m, in \u001b[0;36mMemoizeJac._compute_if_needed\u001b[0;34m(self, x, *args)\u001b[0m\n\u001b[1;32m     71\u001b[0m \u001b[38;5;28;01mif\u001b[39;00m \u001b[38;5;129;01mnot\u001b[39;00m np\u001b[38;5;241m.\u001b[39mall(x \u001b[38;5;241m==\u001b[39m \u001b[38;5;28mself\u001b[39m\u001b[38;5;241m.\u001b[39mx) \u001b[38;5;129;01mor\u001b[39;00m \u001b[38;5;28mself\u001b[39m\u001b[38;5;241m.\u001b[39m_value \u001b[38;5;129;01mis\u001b[39;00m \u001b[38;5;28;01mNone\u001b[39;00m \u001b[38;5;129;01mor\u001b[39;00m \u001b[38;5;28mself\u001b[39m\u001b[38;5;241m.\u001b[39mjac \u001b[38;5;129;01mis\u001b[39;00m \u001b[38;5;28;01mNone\u001b[39;00m:\n\u001b[1;32m     72\u001b[0m     \u001b[38;5;28mself\u001b[39m\u001b[38;5;241m.\u001b[39mx \u001b[38;5;241m=\u001b[39m np\u001b[38;5;241m.\u001b[39masarray(x)\u001b[38;5;241m.\u001b[39mcopy()\n\u001b[0;32m---> 73\u001b[0m     fg \u001b[38;5;241m=\u001b[39m \u001b[38;5;28;43mself\u001b[39;49m\u001b[38;5;241;43m.\u001b[39;49m\u001b[43mfun\u001b[49m\u001b[43m(\u001b[49m\u001b[43mx\u001b[49m\u001b[43m,\u001b[49m\u001b[43m \u001b[49m\u001b[38;5;241;43m*\u001b[39;49m\u001b[43margs\u001b[49m\u001b[43m)\u001b[49m\n\u001b[1;32m     74\u001b[0m     \u001b[38;5;28mself\u001b[39m\u001b[38;5;241m.\u001b[39mjac \u001b[38;5;241m=\u001b[39m fg[\u001b[38;5;241m1\u001b[39m]\n\u001b[1;32m     75\u001b[0m     \u001b[38;5;28mself\u001b[39m\u001b[38;5;241m.\u001b[39m_value \u001b[38;5;241m=\u001b[39m fg[\u001b[38;5;241m0\u001b[39m]\n",
      "File \u001b[0;32m/cim/ehoney/IFT6168_project/notears/notears/linear.py:58\u001b[0m, in \u001b[0;36mnotears_linear.<locals>._func\u001b[0;34m(w)\u001b[0m\n\u001b[1;32m     56\u001b[0m \u001b[38;5;250m\u001b[39m\u001b[38;5;124;03m\"\"\"Evaluate value and gradient of augmented Lagrangian for doubled variables ([2 d^2] array).\"\"\"\u001b[39;00m\n\u001b[1;32m     57\u001b[0m W \u001b[38;5;241m=\u001b[39m _adj(w)\n\u001b[0;32m---> 58\u001b[0m loss, G_loss \u001b[38;5;241m=\u001b[39m \u001b[43m_loss\u001b[49m\u001b[43m(\u001b[49m\u001b[43mW\u001b[49m\u001b[43m)\u001b[49m\n\u001b[1;32m     59\u001b[0m h, G_h \u001b[38;5;241m=\u001b[39m _h(W)\n\u001b[1;32m     60\u001b[0m obj \u001b[38;5;241m=\u001b[39m loss \u001b[38;5;241m+\u001b[39m \u001b[38;5;241m0.5\u001b[39m \u001b[38;5;241m*\u001b[39m rho \u001b[38;5;241m*\u001b[39m h \u001b[38;5;241m*\u001b[39m h \u001b[38;5;241m+\u001b[39m alpha \u001b[38;5;241m*\u001b[39m h \u001b[38;5;241m+\u001b[39m lambda1 \u001b[38;5;241m*\u001b[39m w\u001b[38;5;241m.\u001b[39msum()\n",
      "File \u001b[0;32m/cim/ehoney/IFT6168_project/notears/notears/linear.py:28\u001b[0m, in \u001b[0;36mnotears_linear.<locals>._loss\u001b[0;34m(W)\u001b[0m\n\u001b[1;32m     26\u001b[0m     R \u001b[38;5;241m=\u001b[39m X \u001b[38;5;241m-\u001b[39m M\n\u001b[1;32m     27\u001b[0m     loss \u001b[38;5;241m=\u001b[39m \u001b[38;5;241m0.5\u001b[39m \u001b[38;5;241m/\u001b[39m X\u001b[38;5;241m.\u001b[39mshape[\u001b[38;5;241m0\u001b[39m] \u001b[38;5;241m*\u001b[39m (R \u001b[38;5;241m*\u001b[39m\u001b[38;5;241m*\u001b[39m \u001b[38;5;241m2\u001b[39m)\u001b[38;5;241m.\u001b[39msum()\n\u001b[0;32m---> 28\u001b[0m     G_loss \u001b[38;5;241m=\u001b[39m \u001b[38;5;241;43m-\u001b[39;49m\u001b[43m \u001b[49m\u001b[38;5;241;43m1.0\u001b[39;49m\u001b[43m \u001b[49m\u001b[38;5;241;43m/\u001b[39;49m\u001b[43m \u001b[49m\u001b[43mX\u001b[49m\u001b[38;5;241;43m.\u001b[39;49m\u001b[43mshape\u001b[49m\u001b[43m[\u001b[49m\u001b[38;5;241;43m0\u001b[39;49m\u001b[43m]\u001b[49m\u001b[43m \u001b[49m\u001b[38;5;241;43m*\u001b[39;49m\u001b[43m \u001b[49m\u001b[43mX\u001b[49m\u001b[38;5;241;43m.\u001b[39;49m\u001b[43mT\u001b[49m\u001b[43m \u001b[49m\u001b[38;5;241;43m@\u001b[39;49m\u001b[43m \u001b[49m\u001b[43mR\u001b[49m\n\u001b[1;32m     29\u001b[0m \u001b[38;5;28;01melif\u001b[39;00m loss_type \u001b[38;5;241m==\u001b[39m \u001b[38;5;124m'\u001b[39m\u001b[38;5;124mlogistic\u001b[39m\u001b[38;5;124m'\u001b[39m:\n\u001b[1;32m     30\u001b[0m     loss \u001b[38;5;241m=\u001b[39m \u001b[38;5;241m1.0\u001b[39m \u001b[38;5;241m/\u001b[39m X\u001b[38;5;241m.\u001b[39mshape[\u001b[38;5;241m0\u001b[39m] \u001b[38;5;241m*\u001b[39m (np\u001b[38;5;241m.\u001b[39mlogaddexp(\u001b[38;5;241m0\u001b[39m, M) \u001b[38;5;241m-\u001b[39m X \u001b[38;5;241m*\u001b[39m M)\u001b[38;5;241m.\u001b[39msum()\n",
      "\u001b[0;31mKeyboardInterrupt\u001b[0m: "
     ]
    }
   ],
   "source": [
    "metrics = {}\n",
    "\n",
    "# Iterate through each data directory\n",
    "for data_folder_name in data_folder_names:\n",
    "    data_folder_path = os.path.join(data_dir, data_folder_name)\n",
    "    print(f\"Processing data directory: {data_folder_path}\")\n",
    "\n",
    "    output_dir = os.path.join(out_dir, data_folder_name)\n",
    "    os.makedirs(output_dir, exist_ok=True)\n",
    "\n",
    "    metrics[data_folder_name] = {}\n",
    "    \n",
    "    # Iterate through the 10 datasets in the current directory\n",
    "    for i in range(1, 11):\n",
    "        metrics[data_folder_name][i] = {}\n",
    "\n",
    "        # Load the DAG, CPDAG, and observational data\n",
    "        dag_path = os.path.join(data_folder_path, f'DAG{i}.npy')\n",
    "        cpdag_path = os.path.join(data_folder_path, f'CPDAG{i}.npy')\n",
    "        obs_data_path = os.path.join(data_folder_path, f'data{i}.npy')\n",
    "        \n",
    "        dag = np.load(dag_path)\n",
    "        cpdag = np.load(cpdag_path)\n",
    "        obs_data = np.load(obs_data_path)\n",
    "\n",
    "        ## PC algorithm\n",
    "        \n",
    "        # Estimate the CPDAG using the PC algorithm\n",
    "        cg = pc(obs_data)\n",
    "        \n",
    "        # Convert the estimated CPDAG to adjacency matrix format\n",
    "        estimated_cpdag = convert_cpdag_format(cg)\n",
    "\n",
    "        # Save the estimated CPDAG\n",
    "        output_path = os.path.join(output_dir, f'PC_alg_CPDAG{i}.npy')\n",
    "        np.save(output_path, estimated_cpdag)\n",
    "\n",
    "        pc_shd = cdt.metrics.SHD(estimated_cpdag, cpdag, double_for_anticausal=False)\n",
    "        metrics[data_folder_name][i]['PC_SHD'] = pc_shd\n",
    "        \n",
    "\n",
    "        ## NOTEARS\n",
    "        W_est = linear.notears_linear(obs_data, lambda1=lambda1, loss_type=loss_type)\n",
    "\n",
    "        # Save the estimated W matrix\n",
    "        output_path = os.path.join(output_dir, f'NOTEARS_W{i}.npy')\n",
    "        np.save(output_path, W_est)\n",
    "\n",
    "        estimated_dag = (W_est != 0).astype(int)\n",
    "\n",
    "        notears_shd = cdt.metrics.SHD(estimated_dag, dag, double_for_anticausal=False)\n",
    "        metrics[data_folder_name][i]['NOTEARS_SHD'] = notears_shd\n",
    "\n",
    "        # Print SHDs for the current dataset\n",
    "        print(f\"Dataset {i}: PC SHD = {pc_shd}, NOTEARS SHD = {notears_shd}\")\n",
    "\n",
    "    # Compute the mean and variance of SHD values for the current directory\n",
    "    pc_shd_values = [metrics[data_folder_name][i]['PC_SHD'] for i in range(1, 11)]\n",
    "    notears_shd_values = [metrics[data_folder_name][i]['NOTEARS_SHD'] for i in range(1, 11)]\n",
    "    mean_pc_shd = np.mean(pc_shd_values)\n",
    "    variance_pc_shd = np.var(pc_shd_values)\n",
    "    mean_notears_shd = np.mean(notears_shd_values)\n",
    "    variance_notears_shd = np.var(notears_shd_values)\n",
    "\n",
    "    # Display mean and variance of SHD values\n",
    "    print(f\"Mean PC SHD for {data_folder_name}: {mean_pc_shd}\")\n",
    "    print(f\"Variance PC SHD for {data_folder_name}: {variance_pc_shd}\")\n",
    "    print(f\"Mean NOTEARS SHD for {data_folder_name}: {mean_notears_shd}\")\n",
    "    print(f\"Variance NOTEARS SHD for {data_folder_name}: {variance_notears_shd}\")\n",
    "\n",
    "# Save metrics as npy file inside output directory\n",
    "metrics_output_path = os.path.join(out_dir, 'metrics.npy')\n",
    "np.save(metrics_output_path, metrics)"
   ]
  },
  {
   "cell_type": "code",
   "execution_count": null,
   "id": "a02253a0",
   "metadata": {},
   "outputs": [],
   "source": []
  }
 ],
 "metadata": {
  "kernelspec": {
   "display_name": "dcdi_conda_env",
   "language": "python",
   "name": "python3"
  },
  "language_info": {
   "codemirror_mode": {
    "name": "ipython",
    "version": 3
   },
   "file_extension": ".py",
   "mimetype": "text/x-python",
   "name": "python",
   "nbconvert_exporter": "python",
   "pygments_lexer": "ipython3",
   "version": "3.9.18"
  }
 },
 "nbformat": 4,
 "nbformat_minor": 5
}
