{
 "cells": [
  {
   "cell_type": "code",
   "execution_count": 2,
   "id": "583119b3",
   "metadata": {},
   "outputs": [],
   "source": [
    "import pandas as pd\n",
    "import numpy as np\n",
    "import os\n",
    "import sys\n",
    "import importlib\n",
    "sys.path.append('/Users/ethankreuzer/Desktop/UdeM/MILA/IFT6168/project/dcdi/data/generation')\n",
    "\n",
    "# Import the dataset generator\n",
    "#from generate_data import dataset_generator\n",
    "\n",
    "import generate_data\n",
    "importlib.reload(generate_data)\n",
    "\n",
    "# now pull in the class\n",
    "from generate_data import dataset_generator"
   ]
  },
  {
   "cell_type": "code",
   "execution_count": null,
   "id": "f244c159",
   "metadata": {},
   "outputs": [
    {
     "name": "stdout",
     "output_type": "stream",
     "text": [
      "\n",
      "=== Generating replicate 1/10 ===\n",
      "Sampling the DAG #0\n",
      "0\n"
     ]
    },
    {
     "name": "stderr",
     "output_type": "stream",
     "text": [
      "Warning message:\n",
      "package ‘pcalg’ was built under R version 4.3.3 \n"
     ]
    },
    {
     "name": "stdout",
     "output_type": "stream",
     "text": [
      "\n",
      "=== Generating replicate 2/10 ===\n",
      "Sampling the DAG #1\n",
      "1\n"
     ]
    },
    {
     "name": "stderr",
     "output_type": "stream",
     "text": [
      "Warning message:\n",
      "package ‘pcalg’ was built under R version 4.3.3 \n"
     ]
    },
    {
     "name": "stdout",
     "output_type": "stream",
     "text": [
      "\n",
      "=== Generating replicate 3/10 ===\n",
      "Sampling the DAG #2\n",
      "2\n"
     ]
    },
    {
     "name": "stderr",
     "output_type": "stream",
     "text": [
      "Warning message:\n",
      "package ‘pcalg’ was built under R version 4.3.3 \n"
     ]
    },
    {
     "name": "stdout",
     "output_type": "stream",
     "text": [
      "\n",
      "=== Generating replicate 4/10 ===\n",
      "Sampling the DAG #3\n",
      "3\n"
     ]
    },
    {
     "name": "stderr",
     "output_type": "stream",
     "text": [
      "Warning message:\n",
      "package ‘pcalg’ was built under R version 4.3.3 \n"
     ]
    },
    {
     "name": "stdout",
     "output_type": "stream",
     "text": [
      "\n",
      "=== Generating replicate 5/10 ===\n",
      "Sampling the DAG #4\n",
      "4\n"
     ]
    },
    {
     "name": "stderr",
     "output_type": "stream",
     "text": [
      "Warning message:\n",
      "package ‘pcalg’ was built under R version 4.3.3 \n"
     ]
    },
    {
     "name": "stdout",
     "output_type": "stream",
     "text": [
      "\n",
      "=== Generating replicate 6/10 ===\n",
      "Sampling the DAG #5\n",
      "5\n"
     ]
    },
    {
     "name": "stderr",
     "output_type": "stream",
     "text": [
      "Warning message:\n",
      "package ‘pcalg’ was built under R version 4.3.3 \n"
     ]
    },
    {
     "name": "stdout",
     "output_type": "stream",
     "text": [
      "\n",
      "=== Generating replicate 7/10 ===\n",
      "Sampling the DAG #6\n",
      "6\n"
     ]
    },
    {
     "name": "stderr",
     "output_type": "stream",
     "text": [
      "Warning message:\n",
      "package ‘pcalg’ was built under R version 4.3.3 \n"
     ]
    },
    {
     "name": "stdout",
     "output_type": "stream",
     "text": [
      "\n",
      "=== Generating replicate 8/10 ===\n",
      "Sampling the DAG #7\n",
      "7\n"
     ]
    },
    {
     "name": "stderr",
     "output_type": "stream",
     "text": [
      "Warning message:\n",
      "package ‘pcalg’ was built under R version 4.3.3 \n"
     ]
    },
    {
     "name": "stdout",
     "output_type": "stream",
     "text": [
      "\n",
      "=== Generating replicate 9/10 ===\n",
      "Sampling the DAG #8\n",
      "8\n"
     ]
    },
    {
     "name": "stderr",
     "output_type": "stream",
     "text": [
      "Warning message:\n",
      "package ‘pcalg’ was built under R version 4.3.3 \n"
     ]
    },
    {
     "name": "stdout",
     "output_type": "stream",
     "text": [
      "\n",
      "=== Generating replicate 10/10 ===\n",
      "Sampling the DAG #9\n",
      "9\n"
     ]
    },
    {
     "name": "stderr",
     "output_type": "stream",
     "text": [
      "Warning message:\n",
      "package ‘pcalg’ was built under R version 4.3.3 \n"
     ]
    }
   ],
   "source": [
    "\n",
    "# 3) Instantiate a single dataset_generator\n",
    "gen = dataset_generator(\n",
    "    mechanism='nn',           # linear SEM\n",
    "    cause='gaussian',             # root‐node dist\n",
    "    intervention_type='structural',  # perfect “do” interventions\n",
    "    struct_interv_distr='normal', # reset intervened nodes to N(0,1)\n",
    "    noise='gaussian',\n",
    "    noise_coeff=0.25,\n",
    "    nb_nodes=10,\n",
    "    expected_degree=3,\n",
    "    nb_points=10000,\n",
    "    suffix='perfect_intv_test',   # matches your folder name\n",
    "    rescale=False,\n",
    "    obs_data=True,\n",
    "    nb_interventions=10,           # one intervention regime\n",
    "    min_nb_target=1,\n",
    "    max_nb_target=3, #max 10$ of nodes\n",
    "    conservative=False,\n",
    "    cover=False,\n",
    "    verbose=True\n",
    ")\n",
    "\n",
    "# 4) Loop over 10 replicates\n",
    "for i in range(10):\n",
    "    gen.i_dataset = i        # dataset index → files will be named *1, *2, … *10\n",
    "    gen.generator = None     # reset the underlying DagGenerator\n",
    "    print(f\"\\n=== Generating replicate {i+1}/10 ===\")\n",
    "    # observational block\n",
    "    gen.generate(intervention=False)\n",
    "    # perfect‐intervention block\n",
    "    gen.generate(intervention=True)\n",
    "\n",
    "# After this finishes, you'll have in\n",
    "#   data_p10_e20_n500_perfect_intv_test/\n",
    "# two files per replicate:\n",
    "#   DAG{k}.npy, CPDAG{k}.npy, data{k}.npy, data_interv{k}.npy,\n",
    "#   intervention{k}.csv, regime{k}.csv\n",
    "# for k = 1…10.\n"
   ]
  }
 ],
 "metadata": {
  "kernelspec": {
   "display_name": "base",
   "language": "python",
   "name": "python3"
  },
  "language_info": {
   "codemirror_mode": {
    "name": "ipython",
    "version": 3
   },
   "file_extension": ".py",
   "mimetype": "text/x-python",
   "name": "python",
   "nbconvert_exporter": "python",
   "pygments_lexer": "ipython3",
   "version": "3.9.13"
  }
 },
 "nbformat": 4,
 "nbformat_minor": 5
}
